{
 "cells": [
  {
   "cell_type": "markdown",
   "metadata": {},
   "source": [
    "# Minneapolis: On-Sale Liquor Licenses\n",
    "## ETL and Analysis of On Sale Liquor Licenses\n",
    "Details:\n",
    "| Title           | Description                                                    |\n",
    "|-----------------|----------------------------------------------------------------|\n",
    "| Author          | Kymberly Ayodeji                                               |\n",
    "| Start Date      | 2024-05-23                                                     |\n",
    "| End Date        | 2024-                                                          |\n",
    "| Datasets        | Minneapolis OpenData: [On-Sale Liquor Licenses](https://opendata.minneapolismn.gov/datasets/cityoflakes::on-sale-liquor/about)                                            |\n",
    "| Products        |                                                                |\n",
    "| Summary         |                                                                |\n",
    "\n",
    "### 0: Install Libraries and Packages"
   ]
  },
  {
   "cell_type": "code",
   "execution_count": 1,
   "metadata": {},
   "outputs": [],
   "source": [
    "# Import Packages and Libraries needed for the project\n",
    "import pandas as pd\n",
    "import numpy as np\n",
    "\n",
    "# for data processing\n",
    "import requests\n",
    "import json\n",
    "\n",
    "# for Geospatial data\n",
    "import geopandas as gpd \n",
    "\n",
    "# for Visualization\n",
    "import matplotlib.pyplot as plt\n",
    "import seaborn as sns\n",
    "import plotly.express as px"
   ]
  },
  {
   "cell_type": "markdown",
   "metadata": {},
   "source": [
    "### 1: Load Data"
   ]
  },
  {
   "cell_type": "code",
   "execution_count": 2,
   "metadata": {},
   "outputs": [],
   "source": [
    "def a_load_data(url):\n",
    "    # Load GeoPandas data from OpenData.Minneapolis.Gov open On-Sale Liquor Licenses in the City of Minneapolis\n",
    "    response = requests.get(url)\n",
    "    data = json.loads(response.text)\n",
    "    # since the data contains nested dictionaries we need to flatten the data from the outer features key\n",
    "    data2 = pd.json_normalize(data['features'])\n",
    "    # Rename the nested dictionary keys of geometry and  properties columns by removing geometry and properties.\n",
    "    data2.columns = data2.columns.str.replace('geometry.', '')\n",
    "    data2.columns = data2.columns.str.replace('properties.', '')\n",
    "    return data2"
   ]
  },
  {
   "cell_type": "code",
   "execution_count": 3,
   "metadata": {},
   "outputs": [
    {
     "data": {
      "text/html": [
       "<div>\n",
       "<style scoped>\n",
       "    .dataframe tbody tr th:only-of-type {\n",
       "        vertical-align: middle;\n",
       "    }\n",
       "\n",
       "    .dataframe tbody tr th {\n",
       "        vertical-align: top;\n",
       "    }\n",
       "\n",
       "    .dataframe thead th {\n",
       "        text-align: right;\n",
       "    }\n",
       "</style>\n",
       "<table border=\"1\" class=\"dataframe\">\n",
       "  <thead>\n",
       "    <tr style=\"text-align: right;\">\n",
       "      <th></th>\n",
       "      <th>type</th>\n",
       "      <th>id</th>\n",
       "      <th>type</th>\n",
       "      <th>coordinates</th>\n",
       "      <th>apn</th>\n",
       "      <th>OBJECTID</th>\n",
       "      <th>licenseNumber</th>\n",
       "      <th>licenseType</th>\n",
       "      <th>licenseStatus</th>\n",
       "      <th>liquorType</th>\n",
       "      <th>...</th>\n",
       "      <th>licenseName</th>\n",
       "      <th>address</th>\n",
       "      <th>endorsements</th>\n",
       "      <th>ward</th>\n",
       "      <th>neighborhood</th>\n",
       "      <th>lat</th>\n",
       "      <th>long</th>\n",
       "      <th>xWebMercator</th>\n",
       "      <th>yWebMercator</th>\n",
       "      <th>lastUpdateDate</th>\n",
       "    </tr>\n",
       "  </thead>\n",
       "  <tbody>\n",
       "    <tr>\n",
       "      <th>0</th>\n",
       "      <td>Feature</td>\n",
       "      <td>1</td>\n",
       "      <td>Point</td>\n",
       "      <td>[-93.2847375971601, 44.9338328058106]</td>\n",
       "      <td>1002824220002</td>\n",
       "      <td>1</td>\n",
       "      <td>LIC404929</td>\n",
       "      <td>BLWine</td>\n",
       "      <td>Approved</td>\n",
       "      <td>On Sale</td>\n",
       "      <td>...</td>\n",
       "      <td>Clancey's</td>\n",
       "      <td>3804 GRAND AVE S</td>\n",
       "      <td>Wine, On Sale, Add Strong Beer; Wine, On Sale...</td>\n",
       "      <td>8</td>\n",
       "      <td>King Field</td>\n",
       "      <td>44.93383</td>\n",
       "      <td>-93.28474</td>\n",
       "      <td>-1.038441e+07</td>\n",
       "      <td>5.611111e+06</td>\n",
       "      <td>1683483324000</td>\n",
       "    </tr>\n",
       "    <tr>\n",
       "      <th>1</th>\n",
       "      <td>Feature</td>\n",
       "      <td>2</td>\n",
       "      <td>Point</td>\n",
       "      <td>[0, 0]</td>\n",
       "      <td>None</td>\n",
       "      <td>2</td>\n",
       "      <td>LIC406561</td>\n",
       "      <td>BLLiquor</td>\n",
       "      <td>Approved</td>\n",
       "      <td>On Sale</td>\n",
       "      <td>...</td>\n",
       "      <td>Relish</td>\n",
       "      <td>700 CENTRAL AVE NE #A</td>\n",
       "      <td>Liquor, On Sale, No Entertainment</td>\n",
       "      <td>None</td>\n",
       "      <td>None</td>\n",
       "      <td>0.00000</td>\n",
       "      <td>0.00000</td>\n",
       "      <td>0.000000e+00</td>\n",
       "      <td>0.000000e+00</td>\n",
       "      <td>1692555320000</td>\n",
       "    </tr>\n",
       "    <tr>\n",
       "      <th>2</th>\n",
       "      <td>Feature</td>\n",
       "      <td>3</td>\n",
       "      <td>Point</td>\n",
       "      <td>[-93.2783961299563, 44.9558276679095]</td>\n",
       "      <td>3402924240117</td>\n",
       "      <td>3</td>\n",
       "      <td>LIC406659</td>\n",
       "      <td>BLLiquor</td>\n",
       "      <td>Approved</td>\n",
       "      <td>On Sale</td>\n",
       "      <td>...</td>\n",
       "      <td>Luna &amp; The Bear</td>\n",
       "      <td>18 26TH ST W</td>\n",
       "      <td>Liquor, On Sale, No Entertainment</td>\n",
       "      <td>10</td>\n",
       "      <td>Whittier</td>\n",
       "      <td>44.95583</td>\n",
       "      <td>-93.27840</td>\n",
       "      <td>-1.038370e+07</td>\n",
       "      <td>5.614570e+06</td>\n",
       "      <td>1692555320000</td>\n",
       "    </tr>\n",
       "    <tr>\n",
       "      <th>3</th>\n",
       "      <td>Feature</td>\n",
       "      <td>4</td>\n",
       "      <td>Point</td>\n",
       "      <td>[-93.2487267506189, 45.0051783248442]</td>\n",
       "      <td>1402924110004</td>\n",
       "      <td>4</td>\n",
       "      <td>LIC394260</td>\n",
       "      <td>BLWine</td>\n",
       "      <td>Approved</td>\n",
       "      <td>On Sale</td>\n",
       "      <td>...</td>\n",
       "      <td>Strike Theater</td>\n",
       "      <td>824 18TH AVE NE</td>\n",
       "      <td>Wine, On Sale, General Entertainment; Wine, O...</td>\n",
       "      <td>1</td>\n",
       "      <td>Logan Park</td>\n",
       "      <td>45.00518</td>\n",
       "      <td>-93.24873</td>\n",
       "      <td>-1.038040e+07</td>\n",
       "      <td>5.622337e+06</td>\n",
       "      <td>1683483324000</td>\n",
       "    </tr>\n",
       "    <tr>\n",
       "      <th>4</th>\n",
       "      <td>Feature</td>\n",
       "      <td>5</td>\n",
       "      <td>Point</td>\n",
       "      <td>[-93.3014949806758, 44.9917854099267]</td>\n",
       "      <td>1602924340140</td>\n",
       "      <td>5</td>\n",
       "      <td>LIC80410</td>\n",
       "      <td>BLLiquor</td>\n",
       "      <td>Pending</td>\n",
       "      <td>On Sale</td>\n",
       "      <td>...</td>\n",
       "      <td>Elk's Lounge</td>\n",
       "      <td>1614 PLYMOUTH AVE N</td>\n",
       "      <td>Liquor, On Sale, Bottle Club</td>\n",
       "      <td>5</td>\n",
       "      <td>Near - North</td>\n",
       "      <td>44.99179</td>\n",
       "      <td>-93.30149</td>\n",
       "      <td>-1.038627e+07</td>\n",
       "      <td>5.620228e+06</td>\n",
       "      <td>1605723317000</td>\n",
       "    </tr>\n",
       "  </tbody>\n",
       "</table>\n",
       "<p>5 rows × 23 columns</p>\n",
       "</div>"
      ],
      "text/plain": [
       "      type  id   type                            coordinates            apn  \\\n",
       "0  Feature   1  Point  [-93.2847375971601, 44.9338328058106]  1002824220002   \n",
       "1  Feature   2  Point                                 [0, 0]           None   \n",
       "2  Feature   3  Point  [-93.2783961299563, 44.9558276679095]  3402924240117   \n",
       "3  Feature   4  Point  [-93.2487267506189, 45.0051783248442]  1402924110004   \n",
       "4  Feature   5  Point  [-93.3014949806758, 44.9917854099267]  1602924340140   \n",
       "\n",
       "   OBJECTID licenseNumber licenseType licenseStatus liquorType  ...  \\\n",
       "0         1     LIC404929      BLWine      Approved    On Sale  ...   \n",
       "1         2     LIC406561    BLLiquor      Approved    On Sale  ...   \n",
       "2         3     LIC406659    BLLiquor      Approved    On Sale  ...   \n",
       "3         4     LIC394260      BLWine      Approved    On Sale  ...   \n",
       "4         5      LIC80410    BLLiquor       Pending    On Sale  ...   \n",
       "\n",
       "       licenseName                address  \\\n",
       "0        Clancey's       3804 GRAND AVE S   \n",
       "1           Relish  700 CENTRAL AVE NE #A   \n",
       "2  Luna & The Bear           18 26TH ST W   \n",
       "3   Strike Theater        824 18TH AVE NE   \n",
       "4     Elk's Lounge    1614 PLYMOUTH AVE N   \n",
       "\n",
       "                                        endorsements  ward  neighborhood  \\\n",
       "0   Wine, On Sale, Add Strong Beer; Wine, On Sale...     8    King Field   \n",
       "1                  Liquor, On Sale, No Entertainment  None          None   \n",
       "2                  Liquor, On Sale, No Entertainment    10      Whittier   \n",
       "3   Wine, On Sale, General Entertainment; Wine, O...     1    Logan Park   \n",
       "4                       Liquor, On Sale, Bottle Club     5  Near - North   \n",
       "\n",
       "        lat      long  xWebMercator  yWebMercator  lastUpdateDate  \n",
       "0  44.93383 -93.28474 -1.038441e+07  5.611111e+06   1683483324000  \n",
       "1   0.00000   0.00000  0.000000e+00  0.000000e+00   1692555320000  \n",
       "2  44.95583 -93.27840 -1.038370e+07  5.614570e+06   1692555320000  \n",
       "3  45.00518 -93.24873 -1.038040e+07  5.622337e+06   1683483324000  \n",
       "4  44.99179 -93.30149 -1.038627e+07  5.620228e+06   1605723317000  \n",
       "\n",
       "[5 rows x 23 columns]"
      ]
     },
     "execution_count": 3,
     "metadata": {},
     "output_type": "execute_result"
    }
   ],
   "source": [
    "url = \"https://services.arcgis.com/afSMGVsC7QlRK1kZ/arcgis/rest/services/On_Sale_Liquor/FeatureServer/0/query?outFields=*&where=1%3D1&f=geojson\"\n",
    "raw_data = a_load_data(url)\n",
    "raw_data.head()"
   ]
  },
  {
   "cell_type": "code",
   "execution_count": 4,
   "metadata": {},
   "outputs": [
    {
     "name": "stdout",
     "output_type": "stream",
     "text": [
      "<class 'pandas.core.frame.DataFrame'>\n",
      "RangeIndex: 285 entries, 0 to 284\n",
      "Data columns (total 23 columns):\n",
      " #   Column          Non-Null Count  Dtype  \n",
      "---  ------          --------------  -----  \n",
      " 0   type            285 non-null    object \n",
      " 1   id              285 non-null    int64  \n",
      " 2   type            285 non-null    object \n",
      " 3   coordinates     285 non-null    object \n",
      " 4   apn             279 non-null    object \n",
      " 5   OBJECTID        285 non-null    int64  \n",
      " 6   licenseNumber   285 non-null    object \n",
      " 7   licenseType     285 non-null    object \n",
      " 8   licenseStatus   285 non-null    object \n",
      " 9   liquorType      285 non-null    object \n",
      " 10  issueDate       284 non-null    float64\n",
      " 11  expirationYear  284 non-null    float64\n",
      " 12  expirationDate  284 non-null    float64\n",
      " 13  licenseName     285 non-null    object \n",
      " 14  address         285 non-null    object \n",
      " 15  endorsements    284 non-null    object \n",
      " 16  ward            278 non-null    object \n",
      " 17  neighborhood    278 non-null    object \n",
      " 18  lat             285 non-null    float64\n",
      " 19  long            285 non-null    float64\n",
      " 20  xWebMercator    285 non-null    float64\n",
      " 21  yWebMercator    285 non-null    float64\n",
      " 22  lastUpdateDate  285 non-null    int64  \n",
      "dtypes: float64(7), int64(3), object(13)\n",
      "memory usage: 51.3+ KB\n"
     ]
    }
   ],
   "source": [
    "raw_data.info()"
   ]
  },
  {
   "cell_type": "markdown",
   "metadata": {},
   "source": [
    "### 2: Clean Data"
   ]
  },
  {
   "cell_type": "code",
   "execution_count": 5,
   "metadata": {},
   "outputs": [],
   "source": [
    "def b_clean_data(df):\n",
    "    num_rows = df.shape[0]\n",
    "    # Convert coordinates column to two separate columns for the x and y coordinates\n",
    "    # Separate the pairs into two lists\n",
    "    df['X'] = [pair[0] for pair in df['coordinates']]\n",
    "    df['Y'] = [pair[1] for pair in df['coordinates']]\n",
    "    df['X'] = df['X'].astype('float64')\n",
    "    df['Y'] = df['Y'].astype('float64')\n",
    "    \n",
    "    # Drop columns that are not needed\n",
    "    cols_not_needed = ['coordinates','type', 'id', 'type', 'OBJECTID','liquorType', 'lat', 'long', 'xWebMercator', 'yWebMercator']\n",
    "    df.drop(columns=cols_not_needed, inplace=True, axis=1)\n",
    "   \n",
    "    # Convert object columns to other data types. Step 1: Fill missing values with 0\n",
    "    object_columns = ['ward', 'issueDate', 'expirationDate', 'lastUpdateDate']\n",
    "    df[object_columns] = df[object_columns].fillna(0)\n",
    "    \n",
    "    # Convert to integer\n",
    "    df['ward'] = df['ward'].astype('int64')\n",
    "    \n",
    "    # Convert object columns to datetime   \n",
    "    df['issueDate'] = pd.to_datetime(df['issueDate'], unit='ms')\n",
    "    df['expirationDate'] = pd.to_datetime(df['expirationDate'], unit='ms') \n",
    "    df['lastUpdateDate'] = pd.to_datetime(df['lastUpdateDate'], unit='ms')\n",
    "   \n",
    "    # Drop rows with missing values\n",
    "    df.dropna(inplace=True)\n",
    "    \n",
    "    # Convert expirationYear to integer\n",
    "    df['expirationYear'] = df['expirationYear'].astype('int64')\n",
    "    print(f'Dropped {num_rows - df.shape[0]} rows')\n",
    "    return df"
   ]
  },
  {
   "cell_type": "code",
   "execution_count": 6,
   "metadata": {},
   "outputs": [
    {
     "name": "stdout",
     "output_type": "stream",
     "text": [
      "Dropped 8 rows\n"
     ]
    },
    {
     "data": {
      "text/html": [
       "<div>\n",
       "<style scoped>\n",
       "    .dataframe tbody tr th:only-of-type {\n",
       "        vertical-align: middle;\n",
       "    }\n",
       "\n",
       "    .dataframe tbody tr th {\n",
       "        vertical-align: top;\n",
       "    }\n",
       "\n",
       "    .dataframe thead th {\n",
       "        text-align: right;\n",
       "    }\n",
       "</style>\n",
       "<table border=\"1\" class=\"dataframe\">\n",
       "  <thead>\n",
       "    <tr style=\"text-align: right;\">\n",
       "      <th></th>\n",
       "      <th>apn</th>\n",
       "      <th>licenseNumber</th>\n",
       "      <th>licenseType</th>\n",
       "      <th>licenseStatus</th>\n",
       "      <th>issueDate</th>\n",
       "      <th>expirationYear</th>\n",
       "      <th>expirationDate</th>\n",
       "      <th>licenseName</th>\n",
       "      <th>address</th>\n",
       "      <th>endorsements</th>\n",
       "      <th>ward</th>\n",
       "      <th>neighborhood</th>\n",
       "      <th>lastUpdateDate</th>\n",
       "      <th>X</th>\n",
       "      <th>Y</th>\n",
       "    </tr>\n",
       "  </thead>\n",
       "  <tbody>\n",
       "    <tr>\n",
       "      <th>0</th>\n",
       "      <td>1002824220002</td>\n",
       "      <td>LIC404929</td>\n",
       "      <td>BLWine</td>\n",
       "      <td>Approved</td>\n",
       "      <td>2023-05-05 10:08:29</td>\n",
       "      <td>2024</td>\n",
       "      <td>2024-04-01 23:59:59</td>\n",
       "      <td>Clancey's</td>\n",
       "      <td>3804 GRAND AVE S</td>\n",
       "      <td>Wine, On Sale, Add Strong Beer; Wine, On Sale...</td>\n",
       "      <td>8</td>\n",
       "      <td>King Field</td>\n",
       "      <td>2023-05-07 18:15:24</td>\n",
       "      <td>-93.284738</td>\n",
       "      <td>44.933833</td>\n",
       "    </tr>\n",
       "    <tr>\n",
       "      <th>2</th>\n",
       "      <td>3402924240117</td>\n",
       "      <td>LIC406659</td>\n",
       "      <td>BLLiquor</td>\n",
       "      <td>Approved</td>\n",
       "      <td>2023-08-18 00:35:22</td>\n",
       "      <td>2024</td>\n",
       "      <td>2024-04-01 23:59:59</td>\n",
       "      <td>Luna &amp; The Bear</td>\n",
       "      <td>18 26TH ST W</td>\n",
       "      <td>Liquor, On Sale, No Entertainment</td>\n",
       "      <td>10</td>\n",
       "      <td>Whittier</td>\n",
       "      <td>2023-08-20 18:15:20</td>\n",
       "      <td>-93.278396</td>\n",
       "      <td>44.955828</td>\n",
       "    </tr>\n",
       "    <tr>\n",
       "      <th>3</th>\n",
       "      <td>1402924110004</td>\n",
       "      <td>LIC394260</td>\n",
       "      <td>BLWine</td>\n",
       "      <td>Approved</td>\n",
       "      <td>2023-05-05 10:06:26</td>\n",
       "      <td>2024</td>\n",
       "      <td>2024-04-01 23:59:00</td>\n",
       "      <td>Strike Theater</td>\n",
       "      <td>824 18TH AVE NE</td>\n",
       "      <td>Wine, On Sale, General Entertainment; Wine, O...</td>\n",
       "      <td>1</td>\n",
       "      <td>Logan Park</td>\n",
       "      <td>2023-05-07 18:15:24</td>\n",
       "      <td>-93.248727</td>\n",
       "      <td>45.005178</td>\n",
       "    </tr>\n",
       "    <tr>\n",
       "      <th>4</th>\n",
       "      <td>1602924340140</td>\n",
       "      <td>LIC80410</td>\n",
       "      <td>BLLiquor</td>\n",
       "      <td>Pending</td>\n",
       "      <td>2019-08-22 08:49:57</td>\n",
       "      <td>2020</td>\n",
       "      <td>2020-04-01 00:00:00</td>\n",
       "      <td>Elk's Lounge</td>\n",
       "      <td>1614 PLYMOUTH AVE N</td>\n",
       "      <td>Liquor, On Sale, Bottle Club</td>\n",
       "      <td>5</td>\n",
       "      <td>Near - North</td>\n",
       "      <td>2020-11-18 18:15:17</td>\n",
       "      <td>-93.301495</td>\n",
       "      <td>44.991785</td>\n",
       "    </tr>\n",
       "    <tr>\n",
       "      <th>5</th>\n",
       "      <td>2602924120061</td>\n",
       "      <td>LIC404994</td>\n",
       "      <td>BLWine</td>\n",
       "      <td>Approved</td>\n",
       "      <td>2023-07-17 12:44:44</td>\n",
       "      <td>2024</td>\n",
       "      <td>2024-04-01 23:59:59</td>\n",
       "      <td>Milly's Wine Bar &amp; Bistro</td>\n",
       "      <td>1129 WASHINGTON AVE S</td>\n",
       "      <td>Wine, On Sale, Add Strong Beer; Wine, On Sale...</td>\n",
       "      <td>3</td>\n",
       "      <td>Downtown East</td>\n",
       "      <td>2023-07-18 18:15:20</td>\n",
       "      <td>-93.252228</td>\n",
       "      <td>44.974580</td>\n",
       "    </tr>\n",
       "  </tbody>\n",
       "</table>\n",
       "</div>"
      ],
      "text/plain": [
       "             apn licenseNumber licenseType licenseStatus           issueDate  \\\n",
       "0  1002824220002     LIC404929      BLWine      Approved 2023-05-05 10:08:29   \n",
       "2  3402924240117     LIC406659    BLLiquor      Approved 2023-08-18 00:35:22   \n",
       "3  1402924110004     LIC394260      BLWine      Approved 2023-05-05 10:06:26   \n",
       "4  1602924340140      LIC80410    BLLiquor       Pending 2019-08-22 08:49:57   \n",
       "5  2602924120061     LIC404994      BLWine      Approved 2023-07-17 12:44:44   \n",
       "\n",
       "   expirationYear      expirationDate                licenseName  \\\n",
       "0            2024 2024-04-01 23:59:59                  Clancey's   \n",
       "2            2024 2024-04-01 23:59:59            Luna & The Bear   \n",
       "3            2024 2024-04-01 23:59:00             Strike Theater   \n",
       "4            2020 2020-04-01 00:00:00               Elk's Lounge   \n",
       "5            2024 2024-04-01 23:59:59  Milly's Wine Bar & Bistro   \n",
       "\n",
       "                 address                                       endorsements  \\\n",
       "0       3804 GRAND AVE S   Wine, On Sale, Add Strong Beer; Wine, On Sale...   \n",
       "2           18 26TH ST W                  Liquor, On Sale, No Entertainment   \n",
       "3        824 18TH AVE NE   Wine, On Sale, General Entertainment; Wine, O...   \n",
       "4    1614 PLYMOUTH AVE N                       Liquor, On Sale, Bottle Club   \n",
       "5  1129 WASHINGTON AVE S   Wine, On Sale, Add Strong Beer; Wine, On Sale...   \n",
       "\n",
       "   ward   neighborhood      lastUpdateDate          X          Y  \n",
       "0     8     King Field 2023-05-07 18:15:24 -93.284738  44.933833  \n",
       "2    10       Whittier 2023-08-20 18:15:20 -93.278396  44.955828  \n",
       "3     1     Logan Park 2023-05-07 18:15:24 -93.248727  45.005178  \n",
       "4     5   Near - North 2020-11-18 18:15:17 -93.301495  44.991785  \n",
       "5     3  Downtown East 2023-07-18 18:15:20 -93.252228  44.974580  "
      ]
     },
     "execution_count": 6,
     "metadata": {},
     "output_type": "execute_result"
    }
   ],
   "source": [
    "df = b_clean_data(raw_data)\n",
    "df.head()"
   ]
  },
  {
   "cell_type": "code",
   "execution_count": 7,
   "metadata": {},
   "outputs": [],
   "source": [
    "def c_address_messy_data(df):\n",
    "    num_rows = df.shape[0]\n",
    "    # Remove data where issue date is less than 2020\n",
    "    df = df[df['issueDate'].dt.year >= 2010]\n",
    "    \n",
    "    # Remove data where expiration date is less than 2020\n",
    "    df = df[df['expirationDate'].dt.year >= 2020]\n",
    "    \n",
    "    # Remove data when the Ward is not 1 to 13\n",
    "    df= df[df['ward'].between(1, 13)]\n",
    "    print(f'Rows removed: {num_rows - df.shape[0]}')\n",
    "    return df"
   ]
  },
  {
   "cell_type": "code",
   "execution_count": 8,
   "metadata": {},
   "outputs": [
    {
     "name": "stdout",
     "output_type": "stream",
     "text": [
      "Rows removed: 0\n"
     ]
    }
   ],
   "source": [
    "df = c_address_messy_data(df)"
   ]
  },
  {
   "cell_type": "code",
   "execution_count": 9,
   "metadata": {},
   "outputs": [],
   "source": [
    "def d_feature_engineering(df):\n",
    "    # Extract month, year from the issue date and calculate the duration of the license\n",
    "    df['issueMonth'] = df['issueDate'].dt.month\n",
    "    df['issueYear'] = df['issueDate'].dt.year   \n",
    "    df['duration'] = df['expirationDate'] - df['issueDate']\n",
    "    \n",
    "    # Split up the endorsements column into separate columns\n",
    "    endorsements = df['endorsements'].str.split('[,;]').explode().unique()\n",
    "    endorsements = [e.strip() for e in endorsements]\n",
    "    for e in endorsements:\n",
    "        df[e] = df['endorsements'].str.contains(e, regex=False)\n",
    "\n",
    "    return df"
   ]
  },
  {
   "cell_type": "code",
   "execution_count": 10,
   "metadata": {},
   "outputs": [],
   "source": [
    "df = d_feature_engineering(df)"
   ]
  },
  {
   "cell_type": "markdown",
   "metadata": {},
   "source": [
    "### 3: Exploratory Data Visualizations "
   ]
  },
  {
   "cell_type": "code",
   "execution_count": 11,
   "metadata": {},
   "outputs": [
    {
     "data": {
      "text/plain": [
       "On Sale                           271\n",
       "No Entertainment                  165\n",
       "Beer                              141\n",
       "Wine                              139\n",
       "Add Strong Beer                   137\n",
       "Liquor                            128\n",
       "Class E Entertainment             105\n",
       "Limited Entertainment              60\n",
       "General Entertainment              41\n",
       "Class A                            19\n",
       "Class A Entertainment              16\n",
       "Class C1 Entertainment             16\n",
       "Class B Entertainment              14\n",
       "Class C2 Entertainment             12\n",
       "Class D Entertainment               7\n",
       "Taproom Limited Entertainment       6\n",
       "BL Sunday Sales Exemption           6\n",
       "Taproom No Entertainment            5\n",
       "Bottle Club                         5\n",
       "Taproom Class C1 Entertainment      4\n",
       "Adult Entertainment                 3\n",
       "Taproom Class E Entertainment       2\n",
       "Distillery                          1\n",
       "Culinary Classes                    1\n",
       "dtype: int64"
      ]
     },
     "execution_count": 11,
     "metadata": {},
     "output_type": "execute_result"
    }
   ],
   "source": [
    "endorsements = df['endorsements'].str.split('[,;]').explode().unique()\n",
    "endorsements = [e.strip() for e in endorsements]\n",
    "df[endorsements].sum().sort_values(ascending=False)"
   ]
  },
  {
   "cell_type": "code",
   "execution_count": 15,
   "metadata": {},
   "outputs": [
    {
     "data": {
      "text/plain": [
       "22"
      ]
     },
     "execution_count": 15,
     "metadata": {},
     "output_type": "execute_result"
    }
   ],
   "source": [
    "df['licenseName'].str.contains('restaurant', case=False).sum()"
   ]
  },
  {
   "cell_type": "code",
   "execution_count": 16,
   "metadata": {},
   "outputs": [
    {
     "data": {
      "text/plain": [
       "30"
      ]
     },
     "execution_count": 16,
     "metadata": {},
     "output_type": "execute_result"
    }
   ],
   "source": [
    "df['licenseName'].str.contains('bar', case=False).sum()"
   ]
  },
  {
   "cell_type": "code",
   "execution_count": 28,
   "metadata": {},
   "outputs": [
    {
     "data": {
      "text/plain": [
       "5"
      ]
     },
     "execution_count": 28,
     "metadata": {},
     "output_type": "execute_result"
    }
   ],
   "source": [
    "df['licenseName'].str.contains('lounge', case=False).sum()"
   ]
  },
  {
   "cell_type": "code",
   "execution_count": 27,
   "metadata": {},
   "outputs": [
    {
     "data": {
      "text/plain": [
       "0                                     Clancey's\n",
       "2                               Luna & The Bear\n",
       "3                                Strike Theater\n",
       "4                                  Elk's Lounge\n",
       "5                     Milly's Wine Bar & Bistro\n",
       "6                          Luminary Arts Center\n",
       "7                                     Dutch Bar\n",
       "8                     Carbon Kitchen and Market\n",
       "9                                      Gay 90'S\n",
       "10    Best of Best Quality Korean Fried Chicken\n",
       "Name: licenseName, dtype: object"
      ]
     },
     "execution_count": 27,
     "metadata": {},
     "output_type": "execute_result"
    }
   ],
   "source": [
    "df['licenseName'].head(10)"
   ]
  }
 ],
 "metadata": {
  "kernelspec": {
   "display_name": "py312geospatial",
   "language": "python",
   "name": "python3"
  },
  "language_info": {
   "codemirror_mode": {
    "name": "ipython",
    "version": 3
   },
   "file_extension": ".py",
   "mimetype": "text/x-python",
   "name": "python",
   "nbconvert_exporter": "python",
   "pygments_lexer": "ipython3",
   "version": "3.12.3"
  }
 },
 "nbformat": 4,
 "nbformat_minor": 2
}
