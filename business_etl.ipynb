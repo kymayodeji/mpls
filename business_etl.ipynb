{
 "cells": [
  {
   "cell_type": "code",
   "execution_count": 1,
   "metadata": {},
   "outputs": [],
   "source": [
    "\n",
    "import pandas as pd\n",
    "import numpy as np\n",
    "\n",
    "# for data processing\n",
    "import requests\n",
    "import json\n",
    "\n",
    "# for Geospatial data\n",
    "import geopandas as gpd \n",
    "\n",
    "# for Visualization\n",
    "import matplotlib.pyplot as plt\n",
    "import seaborn as sns\n",
    "import plotly.express as px"
   ]
  },
  {
   "cell_type": "code",
   "execution_count": null,
   "metadata": {},
   "outputs": [],
   "source": [
    "def a_load_data(url):\n",
    "    # Load GeoPandas data from OpenData.Minneapolis.Gov \n",
    "    response = requests.get(url)\n",
    "    data = json.loads(response.txt)\n",
    "    # since the data contains nested dictionaries we need to flatten the data from the outer features key\n",
    "    data2 = pd.json_normalize(data['features'])\n",
    "    # Rename the nested dictionary keys of geometry and  properties columns by removing geometry and properties.\n",
    "    data2.columns = data2.columns.str.replace('geometry.', '')\n",
    "    data2.columns = data2.columns.str.replace('properties.', '')\n",
    "    return data2\n",
    "    "
   ]
  },
  {
   "cell_type": "code",
   "execution_count": 2,
   "metadata": {},
   "outputs": [
    {
     "data": {
      "text/plain": [
       "dict"
      ]
     },
     "execution_count": 2,
     "metadata": {},
     "output_type": "execute_result"
    }
   ],
   "source": [
    "# Retreive Businss License Data from opendata.minneapolis.gov\n",
    "business_license_url = \"https://services.arcgis.com/afSMGVsC7QlRK1kZ/arcgis/rest/services/Active_Rental_Licenses/FeatureServer/0/query?outFields=*&where=1%3D1&f=geojson\"\n",
    "bl_df = a_load_data(business_license_url)\n",
    "bl_df.head()"
   ]
  }
 ],
 "metadata": {
  "kernelspec": {
   "display_name": "py312geospatial",
   "language": "python",
   "name": "python3"
  },
  "language_info": {
   "codemirror_mode": {
    "name": "ipython",
    "version": 3
   },
   "file_extension": ".py",
   "mimetype": "text/x-python",
   "name": "python",
   "nbconvert_exporter": "python",
   "pygments_lexer": "ipython3",
   "version": "3.12.3"
  }
 },
 "nbformat": 4,
 "nbformat_minor": 2
}
