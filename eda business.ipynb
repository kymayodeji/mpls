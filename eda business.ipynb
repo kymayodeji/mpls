{
 "cells": [
  {
   "cell_type": "markdown",
   "metadata": {},
   "source": [
    "## Minneapolis City Info\n",
    "\n",
    "### Businesses"
   ]
  },
  {
   "cell_type": "code",
   "execution_count": 3,
   "metadata": {},
   "outputs": [],
   "source": [
    "#Import libraries\n",
    "import pandas as pd\n",
    "import json"
   ]
  },
  {
   "cell_type": "code",
   "execution_count": 8,
   "metadata": {},
   "outputs": [],
   "source": [
    "file_path=\"mpls_businesses.json\"\n",
    "with open(file_path, 'r') as file:\n",
    "    data = json.load(file)"
   ]
  },
  {
   "cell_type": "code",
   "execution_count": 11,
   "metadata": {},
   "outputs": [
    {
     "data": {
      "text/html": [
       "<div>\n",
       "<style scoped>\n",
       "    .dataframe tbody tr th:only-of-type {\n",
       "        vertical-align: middle;\n",
       "    }\n",
       "\n",
       "    .dataframe tbody tr th {\n",
       "        vertical-align: top;\n",
       "    }\n",
       "\n",
       "    .dataframe thead th {\n",
       "        text-align: right;\n",
       "    }\n",
       "</style>\n",
       "<table border=\"1\" class=\"dataframe\">\n",
       "  <thead>\n",
       "    <tr style=\"text-align: right;\">\n",
       "      <th></th>\n",
       "      <th>attributes.category</th>\n",
       "      <th>attributes.status</th>\n",
       "      <th>attributes.issueDate</th>\n",
       "      <th>attributes.expirationDate</th>\n",
       "      <th>attributes.address</th>\n",
       "      <th>attributes.licensedUnits</th>\n",
       "      <th>attributes.ward</th>\n",
       "      <th>attributes.neighborhoodDesc</th>\n",
       "      <th>attributes.communityDesc</th>\n",
       "      <th>attributes.policePrecinct</th>\n",
       "      <th>attributes.shortTermRental</th>\n",
       "      <th>attributes.latitude</th>\n",
       "      <th>attributes.longitude</th>\n",
       "      <th>geometry.x</th>\n",
       "      <th>geometry.y</th>\n",
       "    </tr>\n",
       "  </thead>\n",
       "  <tbody>\n",
       "    <tr>\n",
       "      <th>0</th>\n",
       "      <td>CONV</td>\n",
       "      <td>Active</td>\n",
       "      <td>1573121029000</td>\n",
       "      <td>1709251200000</td>\n",
       "      <td>5924 OLIVER AVE S</td>\n",
       "      <td>1</td>\n",
       "      <td>13</td>\n",
       "      <td>Armatage</td>\n",
       "      <td>Southwest</td>\n",
       "      <td>5</td>\n",
       "      <td>No</td>\n",
       "      <td>44.89592</td>\n",
       "      <td>-93.30775</td>\n",
       "      <td>-93.307754</td>\n",
       "      <td>44.895922</td>\n",
       "    </tr>\n",
       "    <tr>\n",
       "      <th>1</th>\n",
       "      <td>CONV</td>\n",
       "      <td>Active</td>\n",
       "      <td>1546848695000</td>\n",
       "      <td>1709251200000</td>\n",
       "      <td>5013 ALDRICH AVE N</td>\n",
       "      <td>1</td>\n",
       "      <td>4</td>\n",
       "      <td>Lind - Bohanon</td>\n",
       "      <td>Camden</td>\n",
       "      <td>4</td>\n",
       "      <td>No</td>\n",
       "      <td>45.04628</td>\n",
       "      <td>-93.29056</td>\n",
       "      <td>-93.290564</td>\n",
       "      <td>45.046278</td>\n",
       "    </tr>\n",
       "    <tr>\n",
       "      <th>2</th>\n",
       "      <td>CHOWNEXMPT</td>\n",
       "      <td>Active</td>\n",
       "      <td>1684762714000</td>\n",
       "      <td>1709251200000</td>\n",
       "      <td>3635 1ST AVE S</td>\n",
       "      <td>7</td>\n",
       "      <td>8</td>\n",
       "      <td>King Field</td>\n",
       "      <td>Southwest</td>\n",
       "      <td>5</td>\n",
       "      <td>No</td>\n",
       "      <td>44.93641</td>\n",
       "      <td>-93.27625</td>\n",
       "      <td>-93.276253</td>\n",
       "      <td>44.936412</td>\n",
       "    </tr>\n",
       "    <tr>\n",
       "      <th>3</th>\n",
       "      <td>CHOWN</td>\n",
       "      <td>Active</td>\n",
       "      <td>1608742650000</td>\n",
       "      <td>1740787200000</td>\n",
       "      <td>2001 GLENWOOD AVE</td>\n",
       "      <td>1</td>\n",
       "      <td>5</td>\n",
       "      <td>Harrison</td>\n",
       "      <td>Near North</td>\n",
       "      <td>4</td>\n",
       "      <td>No</td>\n",
       "      <td>44.98047</td>\n",
       "      <td>-93.30582</td>\n",
       "      <td>-93.305824</td>\n",
       "      <td>44.980465</td>\n",
       "    </tr>\n",
       "    <tr>\n",
       "      <th>4</th>\n",
       "      <td>CONV</td>\n",
       "      <td>Active</td>\n",
       "      <td>1593098341000</td>\n",
       "      <td>1709251200000</td>\n",
       "      <td>2311 LYNDALE AVE N</td>\n",
       "      <td>1</td>\n",
       "      <td>5</td>\n",
       "      <td>Hawthorne</td>\n",
       "      <td>Near North</td>\n",
       "      <td>4</td>\n",
       "      <td>No</td>\n",
       "      <td>45.00301</td>\n",
       "      <td>-93.28842</td>\n",
       "      <td>-93.288422</td>\n",
       "      <td>45.003012</td>\n",
       "    </tr>\n",
       "  </tbody>\n",
       "</table>\n",
       "</div>"
      ],
      "text/plain": [
       "  attributes.category attributes.status  attributes.issueDate  \\\n",
       "0                CONV            Active         1573121029000   \n",
       "1                CONV            Active         1546848695000   \n",
       "2          CHOWNEXMPT            Active         1684762714000   \n",
       "3               CHOWN            Active         1608742650000   \n",
       "4                CONV            Active         1593098341000   \n",
       "\n",
       "   attributes.expirationDate  attributes.address  attributes.licensedUnits  \\\n",
       "0              1709251200000   5924 OLIVER AVE S                         1   \n",
       "1              1709251200000  5013 ALDRICH AVE N                         1   \n",
       "2              1709251200000      3635 1ST AVE S                         7   \n",
       "3              1740787200000   2001 GLENWOOD AVE                         1   \n",
       "4              1709251200000  2311 LYNDALE AVE N                         1   \n",
       "\n",
       "  attributes.ward attributes.neighborhoodDesc attributes.communityDesc  \\\n",
       "0              13                    Armatage                Southwest   \n",
       "1               4              Lind - Bohanon                   Camden   \n",
       "2               8                  King Field                Southwest   \n",
       "3               5                    Harrison               Near North   \n",
       "4               5                   Hawthorne               Near North   \n",
       "\n",
       "  attributes.policePrecinct attributes.shortTermRental  attributes.latitude  \\\n",
       "0                         5                         No             44.89592   \n",
       "1                         4                         No             45.04628   \n",
       "2                         5                         No             44.93641   \n",
       "3                         4                         No             44.98047   \n",
       "4                         4                         No             45.00301   \n",
       "\n",
       "   attributes.longitude  geometry.x  geometry.y  \n",
       "0             -93.30775  -93.307754   44.895922  \n",
       "1             -93.29056  -93.290564   45.046278  \n",
       "2             -93.27625  -93.276253   44.936412  \n",
       "3             -93.30582  -93.305824   44.980465  \n",
       "4             -93.28842  -93.288422   45.003012  "
      ]
     },
     "execution_count": 11,
     "metadata": {},
     "output_type": "execute_result"
    }
   ],
   "source": [
    "nested_data = data['features']\n",
    "df = pd.json_normalize(nested_data)\n",
    "df.head()"
   ]
  },
  {
   "cell_type": "code",
   "execution_count": 12,
   "metadata": {},
   "outputs": [
    {
     "data": {
      "text/plain": [
       "(22862, 15)"
      ]
     },
     "execution_count": 12,
     "metadata": {},
     "output_type": "execute_result"
    }
   ],
   "source": [
    "df.shape"
   ]
  },
  {
   "cell_type": "code",
   "execution_count": 19,
   "metadata": {},
   "outputs": [
    {
     "name": "stdout",
     "output_type": "stream",
     "text": [
      "attributes.category  attributes.ward\n",
      "CHOWN                1                  962\n",
      "                     10                 602\n",
      "                     11                 279\n",
      "                     12                 320\n",
      "                     13                 359\n",
      "                                       ... \n",
      "ShrtTrmReg           5                   16\n",
      "                     6                    6\n",
      "                     7                   21\n",
      "                     8                   28\n",
      "                     9                   20\n",
      "Name: attributes.status, Length: 78, dtype: int64\n"
     ]
    }
   ],
   "source": [
    "cat_wards = df.groupby(['attributes.category', 'attributes.ward'])['attributes.status'].count()\n",
    "print(cat_wards)"
   ]
  }
 ],
 "metadata": {
  "kernelspec": {
   "display_name": "transit",
   "language": "python",
   "name": "python3"
  },
  "language_info": {
   "codemirror_mode": {
    "name": "ipython",
    "version": 3
   },
   "file_extension": ".py",
   "mimetype": "text/x-python",
   "name": "python",
   "nbconvert_exporter": "python",
   "pygments_lexer": "ipython3",
   "version": "3.10.13"
  }
 },
 "nbformat": 4,
 "nbformat_minor": 2
}
